{
 "cells": [
  {
   "cell_type": "code",
   "execution_count": 1,
   "id": "07f34e92",
   "metadata": {},
   "outputs": [
    {
     "name": "stdout",
     "output_type": "stream",
     "text": [
      "10\n"
     ]
    }
   ],
   "source": [
    "x=(10)\n",
    "print(x)"
   ]
  },
  {
   "cell_type": "code",
   "execution_count": 2,
   "id": "1a357952",
   "metadata": {},
   "outputs": [
    {
     "data": {
      "text/plain": [
       "int"
      ]
     },
     "execution_count": 2,
     "metadata": {},
     "output_type": "execute_result"
    }
   ],
   "source": [
    "type(x)"
   ]
  },
  {
   "cell_type": "code",
   "execution_count": 3,
   "id": "4514a586",
   "metadata": {},
   "outputs": [
    {
     "name": "stdout",
     "output_type": "stream",
     "text": [
      "10\n"
     ]
    },
    {
     "data": {
      "text/plain": [
       "int"
      ]
     },
     "execution_count": 3,
     "metadata": {},
     "output_type": "execute_result"
    }
   ],
   "source": [
    "x=(10)\n",
    "print(x)\n",
    "type(x)"
   ]
  },
  {
   "cell_type": "code",
   "execution_count": 4,
   "id": "5603038f",
   "metadata": {},
   "outputs": [
    {
     "data": {
      "text/plain": [
       "10"
      ]
     },
     "execution_count": 4,
     "metadata": {},
     "output_type": "execute_result"
    }
   ],
   "source": [
    "x=(10)\n",
    "x"
   ]
  },
  {
   "cell_type": "markdown",
   "id": "7cc102f0",
   "metadata": {},
   "source": [
    "### Rules for naming a Variable"
   ]
  },
  {
   "cell_type": "code",
   "execution_count": 6,
   "id": "e4edb2ea",
   "metadata": {},
   "outputs": [
    {
     "ename": "SyntaxError",
     "evalue": "invalid syntax (228175479.py, line 1)",
     "output_type": "error",
     "traceback": [
      "\u001b[1;36m  Cell \u001b[1;32mIn[6], line 1\u001b[1;36m\u001b[0m\n\u001b[1;33m    first name= Sheela Grace\u001b[0m\n\u001b[1;37m          ^\u001b[0m\n\u001b[1;31mSyntaxError\u001b[0m\u001b[1;31m:\u001b[0m invalid syntax\n"
     ]
    }
   ],
   "source": [
    "first name= Sheela Grace\n",
    "first name"
   ]
  },
  {
   "cell_type": "code",
   "execution_count": 9,
   "id": "fd0b806c",
   "metadata": {},
   "outputs": [
    {
     "data": {
      "text/plain": [
       "'Sheela'"
      ]
     },
     "execution_count": 9,
     "metadata": {},
     "output_type": "execute_result"
    }
   ],
   "source": [
    "first_name= \"Sheela\"\n",
    "first_name"
   ]
  },
  {
   "cell_type": "code",
   "execution_count": 10,
   "id": "e3a79623",
   "metadata": {},
   "outputs": [
    {
     "data": {
      "text/plain": [
       "'Sheela'"
      ]
     },
     "execution_count": 10,
     "metadata": {},
     "output_type": "execute_result"
    }
   ],
   "source": [
    "firstname=\"Sheela\"\n",
    "firstname"
   ]
  },
  {
   "cell_type": "code",
   "execution_count": 11,
   "id": "371d2664",
   "metadata": {},
   "outputs": [
    {
     "ename": "SyntaxError",
     "evalue": "cannot assign to expression here. Maybe you meant '==' instead of '='? (3194313911.py, line 1)",
     "output_type": "error",
     "traceback": [
      "\u001b[1;36m  Cell \u001b[1;32mIn[11], line 1\u001b[1;36m\u001b[0m\n\u001b[1;33m    first-name=\"Sheela\"\u001b[0m\n\u001b[1;37m    ^\u001b[0m\n\u001b[1;31mSyntaxError\u001b[0m\u001b[1;31m:\u001b[0m cannot assign to expression here. Maybe you meant '==' instead of '='?\n"
     ]
    }
   ],
   "source": [
    "first-name=\"Sheela\"\n",
    "first-name"
   ]
  },
  {
   "cell_type": "code",
   "execution_count": 12,
   "id": "d4bf0909",
   "metadata": {},
   "outputs": [
    {
     "data": {
      "text/plain": [
       "'Sheela'"
      ]
     },
     "execution_count": 12,
     "metadata": {},
     "output_type": "execute_result"
    }
   ],
   "source": [
    "first_name=\"Sheela\"\n",
    "first_name"
   ]
  },
  {
   "cell_type": "code",
   "execution_count": 13,
   "id": "7d5e67c0",
   "metadata": {},
   "outputs": [
    {
     "data": {
      "text/plain": [
       "'ai'"
      ]
     },
     "execution_count": 13,
     "metadata": {},
     "output_type": "execute_result"
    }
   ],
   "source": [
    "_course=\"ai\"\n",
    "_course"
   ]
  },
  {
   "cell_type": "code",
   "execution_count": 15,
   "id": "78f895e1",
   "metadata": {},
   "outputs": [
    {
     "data": {
      "text/plain": [
       "('Sheela', 'Grace')"
      ]
     },
     "execution_count": 15,
     "metadata": {},
     "output_type": "execute_result"
    }
   ],
   "source": [
    "name2=\"Sheela\",\"Grace\"\n",
    "name2"
   ]
  },
  {
   "cell_type": "code",
   "execution_count": 16,
   "id": "8fb21616",
   "metadata": {},
   "outputs": [
    {
     "data": {
      "text/plain": [
       "('Sheela', 'Grace')"
      ]
     },
     "execution_count": 16,
     "metadata": {},
     "output_type": "execute_result"
    }
   ],
   "source": [
    "n2ame=\"Sheela\",\"Grace\"\n",
    "n2ame"
   ]
  },
  {
   "cell_type": "markdown",
   "id": "cea507a4",
   "metadata": {},
   "source": [
    "#### what is x here? \n",
    "#### variable--> it is a container to store values\n"
   ]
  },
  {
   "cell_type": "markdown",
   "id": "45696f88",
   "metadata": {},
   "source": [
    "### variable should not have space\n"
   ]
  },
  {
   "cell_type": "markdown",
   "id": "cbe730a6",
   "metadata": {},
   "source": [
    "### variable name can start with A-Z,a-z or underscore"
   ]
  },
  {
   "cell_type": "markdown",
   "id": "91a2eb15",
   "metadata": {},
   "source": [
    "### The only allowed special character is underscore"
   ]
  },
  {
   "cell_type": "markdown",
   "id": "f5bb5928",
   "metadata": {},
   "source": [
    "### Variable should not start with the number"
   ]
  },
  {
   "cell_type": "code",
   "execution_count": null,
   "id": "e6aa2e34",
   "metadata": {},
   "outputs": [],
   "source": []
  }
 ],
 "metadata": {
  "kernelspec": {
   "display_name": "Python 3 (ipykernel)",
   "language": "python",
   "name": "python3"
  },
  "language_info": {
   "codemirror_mode": {
    "name": "ipython",
    "version": 3
   },
   "file_extension": ".py",
   "mimetype": "text/x-python",
   "name": "python",
   "nbconvert_exporter": "python",
   "pygments_lexer": "ipython3",
   "version": "3.11.5"
  }
 },
 "nbformat": 4,
 "nbformat_minor": 5
}
